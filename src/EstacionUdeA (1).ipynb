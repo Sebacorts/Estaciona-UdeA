{
  "cells": [
    {
      "cell_type": "markdown",
      "metadata": {
        "id": "9ahCAJwXn_wW"
      },
      "source": [
        "**Configuración**"
      ]
    },
    {
      "cell_type": "code",
      "execution_count": 1,
      "metadata": {
        "id": "aqD2qN30rCqy"
      },
      "outputs": [],
      "source": [
        "# Constantes globales.\n",
        "ESPACIOS_TOTALES = 50\n",
        "PRECIO_CUARTO = 500\n",
        "\n",
        "# Datos iniciales. para el (Usuario admin)\n",
        "Administrador = {\"Admin\": \"UdeA1803\"}\n",
        "\n",
        "# Diccionarios para guardar usuarios, vehículos, parqueo...\n",
        "Usuarios = {}\n",
        "Vehiculos = {}\n",
        "Estacion = {}\n",
        "HistorialRetiros = []"
      ]
    },
    {
      "cell_type": "markdown",
      "metadata": {
        "id": "wtQQa6zJozxh"
      },
      "source": [
        "# Usuario"
      ]
    },
    {
      "cell_type": "code",
      "execution_count": 2,
      "metadata": {
        "id": "wveJxyLnr32_"
      },
      "outputs": [],
      "source": [
        "# función para el registro de usuarios\n",
        "\n",
        "def RegistrarUsuario():\n",
        "    print(\"\\n*Registrar*\")\n",
        "    Documento = input(\"Por favor ingrese el documento: \")\n",
        "\n",
        "# Verificar si el usuario ya está registrado\n",
        "    if Documento in Usuarios:\n",
        "        print(f\"El documento{Documento}, ya se encuentra registrado en el sistema.\")\n",
        "        return\n",
        "\n",
        "# registrar datos\n",
        "    Nombre = input(\"Ingrese el nombre: \").upper()\n",
        "    Apellido = input(\"Ingrese el apellido: \").upper()\n",
        "    Placa = input(\"Ingrese la matricula del vehículo: \").upper()\n",
        "\n",
        "# Guardar la información en el diccionario 'Usuarios'\n",
        "    Usuarios[Documento] = {\n",
        "        \"nombre\": Nombre,\n",
        "        \"apellido\": Apellido,\n",
        "        \"placa\": Placa\n",
        "    }\n",
        "    print(\"El usuario ha sido registrado éxitosamente.\")\n"
      ]
    },
    {
      "cell_type": "markdown",
      "metadata": {
        "id": "acgVR78azPRo"
      },
      "source": [
        "# Registrar vehiculos"
      ]
    },
    {
      "cell_type": "code",
      "execution_count": 3,
      "metadata": {
        "id": "dGG6aZqVmV-2"
      },
      "outputs": [],
      "source": [
        "from datetime import datetime\n",
        "\n",
        "# Constantes y estructuras\n",
        "Estacion = {}  # clave: placa, valor: datos\n",
        "EstacionesDisponibles = list(range(1, ESPACIOS_TOTALES + 1))\n",
        "\n",
        "# Función para ingresar vehículo\n",
        "def IngresarVehiculo():\n",
        "    print(\"\\n--- Ingreso de Vehículo ---\")\n",
        "    Documento = input(\"Documento de identidad del usuario: \")\n",
        "\n",
        "# Validar si el usuario está registrado\n",
        "    if Documento not in Usuarios:\n",
        "        print(\"Usuario no registrado. Primero debe registrarlo.\")\n",
        "        return\n",
        "\n",
        "# Localizar la placa asociada al documento\n",
        "    Placa = Usuarios[Documento][\"placa\"]\n",
        "\n",
        "# Verificar si el vehículo ya está estacionado\n",
        "    if Placa in Estacion:\n",
        "        print(\"Este vehículo ya está estacionado.\")\n",
        "        return\n",
        "\n",
        "# Verificar si hay estaciones disponibles\n",
        "# promesa, encontrar la forma de que esta estacione acorde al estudiante y la cercania de su facultad.\n",
        "    if not EstacionesDisponibles:\n",
        "        print(\"Lo sentimos, todas nuestras estaciones están llenas.\")\n",
        "        return\n",
        "\n",
        "# Asignar la primera estación libre\n",
        "    EstacionAsignada = EstacionesDisponibles.pop(0)\n",
        "\n",
        "# Registrar la hora actual\n",
        "    HoraIngreso = datetime.now()\n",
        "\n",
        "# Almacenar información del ingreso\n",
        "    Estacion[Placa] = {\n",
        "        \"documento\": Documento,\n",
        "        \"nombre\": Usuarios[Documento][\"nombre\"],\n",
        "        \"apellido\": Usuarios[Documento][\"apellido\"],\n",
        "        \"estacion\": EstacionAsignada,\n",
        "        \"hora_ingreso\": HoraIngreso\n",
        "    }\n",
        "\n",
        "    print(f\"Vehículo ingresado exitosamente. Estación asignada: {EstacionAsignada}\\n\")"
      ]
    },
    {
      "cell_type": "markdown",
      "metadata": {
        "id": "9nRdDRd2xBhb"
      },
      "source": [
        "# Retirar vehiculo"
      ]
    },
    {
      "cell_type": "code",
      "execution_count": 4,
      "metadata": {
        "id": "99YNQkO7xF80"
      },
      "outputs": [],
      "source": [
        "def generar_factura(placa, datos_usuario, hora_ingreso, hora_salida, minutos, costo):\n",
        "    titulo = \"FACTURA\"\n",
        "    ancho = 25\n",
        "    print(\"\\n\" + \"-\" * ancho)\n",
        "    print(titulo.center(ancho))\n",
        "    print(\"-\" * ancho)\n",
        "    print(f\"Placa:           {placa}\")\n",
        "    print(f\"Celda:           {datos_usuario['estacion']}\")\n",
        "    print(f\"Ingreso:         {hora_ingreso.strftime('%Y-%m-%d %H:%M:%S')}\")\n",
        "    print(f\"Salida:          {hora_salida.strftime('%Y-%m-%d %H:%M:%S')}\")\n",
        "    print(f\"Tiempo total:    {minutos} minutos\")\n",
        "    print(f\"Total a pagar:   ${costo:,}\")\n",
        "    print(\"-\" * ancho + \"\\n\")\n",
        "\n",
        "def RetirarVehiculo():\n",
        "    print(\"\\n--- Retiro de Vehículo ---\")\n",
        "    placa = input(\"Ingrese la placa del vehículo: \").upper()\n",
        "\n",
        "    if placa not in Estacion:\n",
        "        print(\"Vehículo no encontrado en el parqueadero.\")\n",
        "        return\n",
        "\n",
        "    # Obtener datos del vehículo\n",
        "    datos = Estacion[placa]\n",
        "    hora_ingreso = datos[\"hora_ingreso\"]\n",
        "    hora_salida = datetime.now()\n",
        "    duracion = hora_salida - hora_ingreso\n",
        "    minutos = int(duracion.total_seconds() // 60)\n",
        "\n",
        "    # Cálculo del cobro: mínimo se cobra una fracción (15 minutos = $300)\n",
        "    cuartoH = max(1, (minutos + 14) // 15)  # Asegura al menos un bloque\n",
        "    costo = cuartoH * PRECIO_CUARTO\n",
        "\n",
        "    # Generar factura\n",
        "    generar_factura(placa, datos, hora_ingreso, hora_salida, minutos, costo)\n",
        "\n",
        "    # Liberar celda\n",
        "    EstacionesDisponibles.append(datos[\"estacion\"])\n",
        "    EstacionesDisponibles.sort()  # Para asignar siempre en orden\n",
        "\n",
        "    # Registrar retiro en historial\n",
        "    HistorialRetiros.append({\n",
        "        \"placa\": placa,\n",
        "        \"documento\": datos[\"documento\"],\n",
        "        \"nombre\": datos[\"nombre\"],\n",
        "        \"apellido\": datos[\"apellido\"],\n",
        "        \"celda\": datos[\"estacion\"],\n",
        "        \"ingreso\": hora_ingreso.strftime('%Y-%m-%d %H:%M:%S'),\n",
        "        \"salida\": hora_salida.strftime('%Y-%m-%d %H:%M:%S'),\n",
        "        \"tiempo_min\": minutos,\n",
        "        \"costo\": costo\n",
        "    })\n",
        "\n",
        "    # Eliminar de vehículos activos\n",
        "    del Estacion[placa]\n"
      ]
    },
    {
      "cell_type": "markdown",
      "metadata": {
        "id": "IYcyuDhozu7f"
      },
      "source": [
        "# Menú de admin"
      ]
    },
    {
      "cell_type": "markdown",
      "metadata": {
        "id": "Yk-coR7vw58J"
      },
      "source": [
        "**ver usuarios registrados**"
      ]
    },
    {
      "cell_type": "code",
      "execution_count": 5,
      "metadata": {
        "id": "vYMhnbKaxFUu"
      },
      "outputs": [],
      "source": [
        "import pandas as pd"
      ]
    },
    {
      "cell_type": "code",
      "execution_count": 6,
      "metadata": {
        "id": "JXr0WuqUw92w"
      },
      "outputs": [],
      "source": [
        "def VerUsuarios():\n",
        "    print(\"\\n--- Lista de Usuarios Registrados ---\")\n",
        "    if not Usuarios:\n",
        "        print(\"No hay usuarios registrados.\")\n",
        "        return\n",
        "\n",
        "    # Convertir el diccionario de usuarios en DataFrame\n",
        "    df_usuarios = pd.DataFrame.from_dict(Usuarios, orient='index')\n",
        "    df_usuarios.index.name = 'Documento'\n",
        "    print(df_usuarios)"
      ]
    },
    {
      "cell_type": "markdown",
      "metadata": {
        "id": "7NeLwag_yEEh"
      },
      "source": [
        "**ingresos**"
      ]
    },
    {
      "cell_type": "code",
      "execution_count": 7,
      "metadata": {
        "id": "3w5NGf64yJ54"
      },
      "outputs": [],
      "source": [
        "def VerIngresos():\n",
        "    print(\"\\n Ingresos Totales \\n\")\n",
        "    if not HistorialRetiros:\n",
        "        print(\"No hay retiros registrados aún.\")\n",
        "        return\n",
        "\n",
        "    total_ingresos = sum(retiro[\"costo\"] for retiro in HistorialRetiros)\n",
        "    print(f\"El total de ingresos generados es: ${total_ingresos}\\n\")"
      ]
    },
    {
      "cell_type": "markdown",
      "metadata": {
        "id": "j3ITKZw9A1-p"
      },
      "source": [
        "**Disponibilidad** de celdas."
      ]
    },
    {
      "cell_type": "code",
      "execution_count": 8,
      "metadata": {
        "id": "VZqmhZfTz4ta"
      },
      "outputs": [],
      "source": [
        "def VerOcupacion():\n",
        "    ocupadas = len(Estacion)\n",
        "    libres = len(EstacionesDisponibles)\n",
        "    print(\"\\n--- Disponibilidad del parqueadero ---\")\n",
        "    print(f\"Celdas ocupadas: {ocupadas}\")\n",
        "    print(f\"Celdas disponibles: {libres}\\n\")"
      ]
    },
    {
      "cell_type": "markdown",
      "metadata": {
        "id": "yf5gofgQBBhz"
      },
      "source": [
        "**Resumen de vehículos estacionados**"
      ]
    },
    {
      "cell_type": "code",
      "execution_count": 9,
      "metadata": {
        "id": "G570UKXcz8u8"
      },
      "outputs": [],
      "source": [
        "def VerVehiculosParqueados():\n",
        "    print(\"\\n--- Vehículos en nuestra estación ---\")\n",
        "    if not Estacion:\n",
        "        print(\"No hay vehículos en el estacionamiento.\")\n",
        "        return\n",
        "\n",
        "    df = pd.DataFrame.from_dict(Estacion, orient='index')\n",
        "    df = df[[\"nombre\", \"apellido\", \"documento\", \"estacion\", \"hora_ingreso\"]]\n",
        "    df[\"hora_ingreso\"] = df[\"hora_ingreso\"].apply(lambda x: x.strftime('%Y-%m-%d %H:%M:%S'))\n",
        "    print(df)"
      ]
    },
    {
      "cell_type": "markdown",
      "metadata": {
        "id": "f7AXgJUQErj7"
      },
      "source": [
        "**historial de retiros**"
      ]
    },
    {
      "cell_type": "code",
      "execution_count": 10,
      "metadata": {
        "id": "HJzD0aMBEyLB"
      },
      "outputs": [],
      "source": [
        "def ExportarHistorialRetiros():\n",
        "    if not HistorialRetiros:\n",
        "        print(\"No hay datos en el historial de retiros para exportar.\")\n",
        "        return\n",
        "\n",
        "    df = pd.DataFrame(HistorialRetiros)\n",
        "    nombre_archivo = \"historial_retiros.csv\"\n",
        "    df.to_csv(nombre_archivo, index=False)\n",
        "    print(f\"Historial de retiros exportado correctamente a '{nombre_archivo}'.\")"
      ]
    },
    {
      "cell_type": "markdown",
      "metadata": {
        "id": "IHiOEG_yBM_g"
      },
      "source": [
        "**Menú de admin**"
      ]
    },
    {
      "cell_type": "code",
      "execution_count": 11,
      "metadata": {
        "id": "hZtncTjr-iho"
      },
      "outputs": [],
      "source": [
        "#Menú de admin\n",
        "def MenuAdministrador():\n",
        "    print(\"\\n--- Estación Admin ---\")\n",
        "    usuario = input(\"Ingrese usuario: \")\n",
        "    contraseña = input(\"Ingrese la contraseña: \")\n",
        "\n",
        "    if usuario in Administrador and Administrador[usuario] == contraseña:\n",
        "        print(\"Acceso permitido.\\n\")\n",
        "        while True:\n",
        "            print(\"--- Opciones de Administrador ---\")\n",
        "            print(\"1. Disponibilidad del parqueadero\")\n",
        "            print(\"2. Ver usuarios registrados\")\n",
        "            print(\"3. Ver vehículos estacionados\")\n",
        "            print(\"4. Exportar historial de retiros\")\n",
        "            print(\"5. Ver Ingresos\")\n",
        "            print(\"6. Salir del administrador\")\n",
        "            opcion = input(\"Seleccione una opción: \")\n",
        "\n",
        "            if opcion == \"1\":\n",
        "                VerOcupacion()\n",
        "\n",
        "            elif opcion == \"2\":\n",
        "                  VerUsuarios()\n",
        "\n",
        "            elif opcion == \"3\":\n",
        "                VerVehiculosParqueados()\n",
        "\n",
        "            elif opcion == \"4\":\n",
        "                ExportarHistorialRetiros()\n",
        "\n",
        "            elif opcion == \"5\":\n",
        "                VerIngresos()\n",
        "\n",
        "            elif opcion == \"6\":\n",
        "                print(\"Saliendo del módulo de administración.\\n\")\n",
        "                break\n",
        "            else:\n",
        "                print(\"Opción inválida. Intente de nuevo.\\n\")\n",
        "    else:\n",
        "        print(\"Usuario o contraseña incorrectos.\\n\")"
      ]
    },
    {
      "cell_type": "markdown",
      "metadata": {
        "id": "DYUXMXO8ozfW"
      },
      "source": [
        "# Menú General"
      ]
    },
    {
      "cell_type": "code",
      "execution_count": 13,
      "metadata": {
        "colab": {
          "base_uri": "https://localhost:8080/"
        },
        "id": "bvsb78qLnm6_",
        "outputId": "7b5d5d06-7842-4e7d-a121-1b297ff61418"
      },
      "outputs": [
        {
          "output_type": "stream",
          "name": "stdout",
          "text": [
            "\n",
            "--- ESTACIONA UdeA ---\n",
            "1. Registrar\n",
            "2. Ingresar vehículo\n",
            "3. Retirar vehículo\n",
            "4. Ingresar al módulo de administrador\n",
            "5. Salir\n",
            "Seleccione una opción: 1\n",
            "\n",
            "*Registrar*\n",
            "Por favor ingrese el documento: 123456789\n",
            "Ingrese el nombre: sebastian\n",
            "Ingrese el apellido: cortes\n",
            "Ingrese la matricula del vehículo: mpi94g\n",
            "El usuario ha sido registrado éxitosamente.\n",
            "1. Registrar\n",
            "2. Ingresar vehículo\n",
            "3. Retirar vehículo\n",
            "4. Ingresar al módulo de administrador\n",
            "5. Salir\n",
            "Seleccione una opción: 2\n",
            "\n",
            "--- Ingreso de Vehículo ---\n",
            "Documento de identidad del usuario: 123456789\n",
            "Vehículo ingresado exitosamente. Estación asignada: 1\n",
            "\n",
            "1. Registrar\n",
            "2. Ingresar vehículo\n",
            "3. Retirar vehículo\n",
            "4. Ingresar al módulo de administrador\n",
            "5. Salir\n",
            "Seleccione una opción: 2\n",
            "\n",
            "--- Ingreso de Vehículo ---\n",
            "Documento de identidad del usuario: 1222454358\n",
            "Usuario no registrado. Primero debe registrarlo.\n",
            "1. Registrar\n",
            "2. Ingresar vehículo\n",
            "3. Retirar vehículo\n",
            "4. Ingresar al módulo de administrador\n",
            "5. Salir\n",
            "Seleccione una opción: 1\n",
            "\n",
            "*Registrar*\n",
            "Por favor ingrese el documento: 1222454358\n",
            "Ingrese el nombre: prueba\n",
            "Ingrese el apellido: uno\n",
            "Ingrese la matricula del vehículo: alg123h\n",
            "El usuario ha sido registrado éxitosamente.\n",
            "1. Registrar\n",
            "2. Ingresar vehículo\n",
            "3. Retirar vehículo\n",
            "4. Ingresar al módulo de administrador\n",
            "5. Salir\n",
            "Seleccione una opción: 2\n",
            "\n",
            "--- Ingreso de Vehículo ---\n",
            "Documento de identidad del usuario: 1222454358\n",
            "Vehículo ingresado exitosamente. Estación asignada: 2\n",
            "\n",
            "1. Registrar\n",
            "2. Ingresar vehículo\n",
            "3. Retirar vehículo\n",
            "4. Ingresar al módulo de administrador\n",
            "5. Salir\n",
            "Seleccione una opción: 3\n",
            "\n",
            "--- Retiro de Vehículo ---\n",
            "Ingrese la placa del vehículo: mpi94g\n",
            "\n",
            "-------------------------\n",
            "         FACTURA         \n",
            "-------------------------\n",
            "Placa:           MPI94G\n",
            "Celda:           1\n",
            "Ingreso:         2025-07-12 19:57:43\n",
            "Salida:          2025-07-12 20:44:19\n",
            "Tiempo total:    46 minutos\n",
            "Total a pagar:   $2,000\n",
            "-------------------------\n",
            "\n",
            "1. Registrar\n",
            "2. Ingresar vehículo\n",
            "3. Retirar vehículo\n",
            "4. Ingresar al módulo de administrador\n",
            "5. Salir\n",
            "Seleccione una opción: 4\n",
            "\n",
            "--- Estación Admin ---\n",
            "Ingrese usuario: Admin\n",
            "Ingrese la contraseña: UdeA1803\n",
            "Acceso permitido.\n",
            "\n",
            "--- Opciones de Administrador ---\n",
            "1. Disponibilidad del parqueadero\n",
            "2. Ver usuarios registrados\n",
            "3. Ver vehículos estacionados\n",
            "4. Exportar historial de retiros\n",
            "5. Ver Ingresos\n",
            "6. Salir del administrador\n",
            "Seleccione una opción: 6\n",
            "Saliendo del módulo de administración.\n",
            "\n",
            "1. Registrar\n",
            "2. Ingresar vehículo\n",
            "3. Retirar vehículo\n",
            "4. Ingresar al módulo de administrador\n",
            "5. Salir\n",
            "Seleccione una opción: 4\n",
            "\n",
            "--- Estación Admin ---\n",
            "Ingrese usuario: Admin\n",
            "Ingrese la contraseña: udea1804\n",
            "Usuario o contraseña incorrectos.\n",
            "\n",
            "1. Registrar\n",
            "2. Ingresar vehículo\n",
            "3. Retirar vehículo\n",
            "4. Ingresar al módulo de administrador\n",
            "5. Salir\n",
            "Seleccione una opción: 4\n",
            "\n",
            "--- Estación Admin ---\n",
            "Ingrese usuario: Admin\n",
            "Ingrese la contraseña: UdeA1803\n",
            "Acceso permitido.\n",
            "\n",
            "--- Opciones de Administrador ---\n",
            "1. Disponibilidad del parqueadero\n",
            "2. Ver usuarios registrados\n",
            "3. Ver vehículos estacionados\n",
            "4. Exportar historial de retiros\n",
            "5. Ver Ingresos\n",
            "6. Salir del administrador\n",
            "Seleccione una opción: 1\n",
            "\n",
            "--- Disponibilidad del parqueadero ---\n",
            "Celdas ocupadas: 1\n",
            "Celdas disponibles: 49\n",
            "\n",
            "--- Opciones de Administrador ---\n",
            "1. Disponibilidad del parqueadero\n",
            "2. Ver usuarios registrados\n",
            "3. Ver vehículos estacionados\n",
            "4. Exportar historial de retiros\n",
            "5. Ver Ingresos\n",
            "6. Salir del administrador\n",
            "Seleccione una opción: 2\n",
            "\n",
            "--- Lista de Usuarios Registrados ---\n",
            "               nombre apellido    placa\n",
            "Documento                              \n",
            "123456789   SEBASTIAN   CORTES   MPI94G\n",
            "1222454358     PRUEBA      UNO  ALG123H\n",
            "--- Opciones de Administrador ---\n",
            "1. Disponibilidad del parqueadero\n",
            "2. Ver usuarios registrados\n",
            "3. Ver vehículos estacionados\n",
            "4. Exportar historial de retiros\n",
            "5. Ver Ingresos\n",
            "6. Salir del administrador\n",
            "Seleccione una opción: 3\n",
            "\n",
            "--- Vehículos en nuestra estación ---\n",
            "         nombre apellido   documento  estacion         hora_ingreso\n",
            "ALG123H  PRUEBA      UNO  1222454358         2  2025-07-12 20:35:39\n",
            "--- Opciones de Administrador ---\n",
            "1. Disponibilidad del parqueadero\n",
            "2. Ver usuarios registrados\n",
            "3. Ver vehículos estacionados\n",
            "4. Exportar historial de retiros\n",
            "5. Ver Ingresos\n",
            "6. Salir del administrador\n",
            "Seleccione una opción: 4\n",
            "Historial de retiros exportado correctamente a 'historial_retiros.csv'.\n",
            "--- Opciones de Administrador ---\n",
            "1. Disponibilidad del parqueadero\n",
            "2. Ver usuarios registrados\n",
            "3. Ver vehículos estacionados\n",
            "4. Exportar historial de retiros\n",
            "5. Ver Ingresos\n",
            "6. Salir del administrador\n",
            "Seleccione una opción: 5\n",
            "\n",
            " Ingresos Totales \n",
            "\n",
            "El total de ingresos generados es: $2000\n",
            "\n",
            "--- Opciones de Administrador ---\n",
            "1. Disponibilidad del parqueadero\n",
            "2. Ver usuarios registrados\n",
            "3. Ver vehículos estacionados\n",
            "4. Exportar historial de retiros\n",
            "5. Ver Ingresos\n",
            "6. Salir del administrador\n",
            "Seleccione una opción: 6\n",
            "Saliendo del módulo de administración.\n",
            "\n",
            "1. Registrar\n",
            "2. Ingresar vehículo\n",
            "3. Retirar vehículo\n",
            "4. Ingresar al módulo de administrador\n",
            "5. Salir\n",
            "Seleccione una opción: 5\n",
            "Gracias por usar Parquea. Hasta luego.\n"
          ]
        }
      ],
      "source": [
        "def Menu():\n",
        "    print(\"\\n--- ESTACIONA UdeA ---\")\n",
        "    while True:\n",
        "        print(\"1. Registrar\")\n",
        "        print(\"2. Ingresar vehículo\")\n",
        "        print(\"3. Retirar vehículo\")\n",
        "        print(\"4. Ingresar al módulo de administrador\")\n",
        "        print(\"5. Salir\")\n",
        "\n",
        "        opcion = input(\"Seleccione una opción: \")\n",
        "\n",
        "        if opcion == \"1\":\n",
        "            RegistrarUsuario()\n",
        "        elif opcion == \"2\":\n",
        "            IngresarVehiculo()\n",
        "        elif opcion == \"3\":\n",
        "            RetirarVehiculo()\n",
        "        elif opcion == \"4\":\n",
        "            MenuAdministrador()\n",
        "        elif opcion == \"5\":\n",
        "            print(\"Gracias por usar Parquea. Hasta luego.\")\n",
        "            break\n",
        "        else:\n",
        "            print(\"Opción no válida. Intente nuevamente.\")\n",
        "\n",
        "# Ejecutar programa\n",
        "Menu()"
      ]
    }
  ],
  "metadata": {
    "colab": {
      "provenance": []
    },
    "kernelspec": {
      "display_name": "Python 3",
      "name": "python3"
    },
    "language_info": {
      "name": "python"
    }
  },
  "nbformat": 4,
  "nbformat_minor": 0
}