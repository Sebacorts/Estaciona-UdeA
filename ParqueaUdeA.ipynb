{
  "cells": [
    {
      "cell_type": "markdown",
      "metadata": {
        "id": "9ahCAJwXn_wW"
      },
      "source": [
        "**Configuración**"
      ]
    },
    {
      "cell_type": "code",
      "execution_count": 1,
      "metadata": {
        "id": "aqD2qN30rCqy"
      },
      "outputs": [],
      "source": [
        "# Constantes globales.\n",
        "ESPACIOS_TOTALES = 50\n",
        "PRECIO_HORA = 2000\n",
        "PRECIO_CUARTO = 500\n",
        "# Datos iniciales. (Usuario)\n",
        "Administrador = {\"Admin\": \"UdeA1803\"}\n",
        "# Diccionarios para guardar usuarios, vehículos, parqueo.\n",
        "Usuarios = {}\n",
        "Vehiculos = {}\n",
        "Estacion = {}  # clave: espacio en el parquea, valor: datos de ingreso.\n",
        "HistorialRetiros = []"
      ]
    },
    {
      "cell_type": "markdown",
      "metadata": {
        "id": "wtQQa6zJozxh"
      },
      "source": [
        "# Usuario"
      ]
    },
    {
      "cell_type": "code",
      "execution_count": 14,
      "metadata": {
        "id": "wveJxyLnr32_"
      },
      "outputs": [],
      "source": [
        "# función para el registro de usuarios\n",
        "\n",
        "#esta función se crea con el objetivo de almacenar las visitas historicas de los usuarios, haciendo más optimo el trabajo para calcular el descuentos(el cúal aún no hago), historial de uso, etc.\n",
        "#dado el poco cupos de parqueaderos y la cantidad de persona. Lo justo es un sorteo de parqueadero por mes. Es decir, cuando una persona complete 30 parqueos, independientemente de que\n",
        "#sea secuencial, el sistema le genere un descuento, rotación, o en su defecto retiro (es decir que vuelva a pedir al usuario que se inscriba.)\n",
        "\n",
        "def RegistrarUsuario():\n",
        "    print(\"\\n*Registrar*\")\n",
        "    Documento = input(\"Por favor ingrese el documento: \")\n",
        "# Verificar si el usuario ya está registrado\n",
        "    if Documento in Usuarios:\n",
        "        print(f\"El documento{Documento}, ya se encuentra registrado en el sistema.\")\n",
        "        return\n",
        "# registrar datos\n",
        "    Nombre = input(\"Ingrese solo el nombre ;): \")\n",
        "    Apellido = input(\"Ingrese el apellido: \")\n",
        "    Placa = input(\"Ingrese la matricula del vehículo: \").upper()\n",
        "# Convierte a mayúsculas automáticamente\n",
        "# Guardar la información en el diccionario 'Usuarios'\n",
        "    Usuarios[Documento] = {\n",
        "        \"nombre\": Nombre,\n",
        "        \"apellido\": Apellido,\n",
        "        \"placa\": Placa\n",
        "    }\n",
        "    print(\"Usuario registrado éxitosamente :D.\")\n"
      ]
    },
    {
      "cell_type": "markdown",
      "metadata": {
        "id": "acgVR78azPRo"
      },
      "source": [
        "# Registrar vehiculos"
      ]
    },
    {
      "cell_type": "code",
      "execution_count": 15,
      "metadata": {
        "id": "dGG6aZqVmV-2"
      },
      "outputs": [],
      "source": [
        "from datetime import datetime\n",
        "\n",
        "# Constantes y estructuras\n",
        "EspaciosTotales = 50\n",
        "Usuarios = {}\n",
        "VehiculosParqueados = {}  # clave: placa, valor: datos\n",
        "EstacionesDisponibles = list(range(1, EspaciosTotales + 1))\n",
        "\n",
        "# Función para ingresar vehículo\n",
        "def IngresarVehiculo():\n",
        "    print(\"\\n--- Ingreso de Vehículo ---\")\n",
        "    Documento = input(\"Documento de identidad del usuario: \")\n",
        "\n",
        "# Validar si el usuario está registrado\n",
        "    if Documento not in Usuarios:\n",
        "        print(\"Usuario no registrado. Primero debe registrarlo.\")\n",
        "        return\n",
        "\n",
        "# Localizar la placa asociada al documento\n",
        "    Placa = Usuarios[Documento][\"placa\"]\n",
        "\n",
        "# Verificar si el vehículo ya está estacionado\n",
        "    if Placa in VehiculosParqueados:\n",
        "        print(\"Este vehículo ya está estacionado.\")\n",
        "        return\n",
        "\n",
        "# Verificar si hay estaciones disponibles\n",
        "# promesa, encontrar la forma de que esta estacione acorde al estudiante y la cercania de su facultad.\n",
        "    if not EstacionesDisponibles:\n",
        "        print(\"Lo sentimos, todas nuestras estaciones están llenas.\")\n",
        "        return\n",
        "\n",
        "# Asignar la primera estación libre\n",
        "    EstacionAsignada = EstacionesDisponibles.pop(0)\n",
        "\n",
        "# Registrar la hora actual\n",
        "    HoraIngreso = datetime.now()\n",
        "\n",
        "\n",
        "# Almacenar información del ingreso\n",
        "    VehiculosParqueados[Placa] = {\n",
        "        \"documento\": Documento,\n",
        "        \"nombre\": Usuarios[Documento][\"nombre\"],\n",
        "        \"apellido\": Usuarios[Documento][\"apellido\"],\n",
        "        \"estacion\": EstacionAsignada,\n",
        "        \"hora_ingreso\": HoraIngreso\n",
        "    }\n",
        "\n",
        "    print(f\"Vehículo ingresado exitosamente. Estación asignada: {EstacionAsignada}\\n\")"
      ]
    },
    {
      "cell_type": "markdown",
      "metadata": {
        "id": "oNCNVJvKugSF"
      },
      "source": [
        "# Ver usuarios"
      ]
    },
    {
      "cell_type": "code",
      "execution_count": 16,
      "metadata": {
        "id": "Uu34f3bCvJdp"
      },
      "outputs": [],
      "source": [
        "import pandas as pd"
      ]
    },
    {
      "cell_type": "code",
      "execution_count": 17,
      "metadata": {
        "id": "4kL5nsqVukNH"
      },
      "outputs": [],
      "source": [
        "def VerUsuarios():\n",
        "    print(\"\\n--- Lista de Usuarios Registrados ---\")\n",
        "    if not Usuarios:\n",
        "        print(\"No hay usuarios registrados.\")\n",
        "        return\n",
        "\n",
        "    # Convertir el diccionario de usuarios en DataFrame\n",
        "    df_usuarios = pd.DataFrame.from_dict(Usuarios, orient='index')\n",
        "    df_usuarios.index.name = 'Documento'\n",
        "    print(df_usuarios)"
      ]
    },
    {
      "cell_type": "markdown",
      "metadata": {
        "id": "9nRdDRd2xBhb"
      },
      "source": [
        "# Retirar vehiculo"
      ]
    },
    {
      "cell_type": "code",
      "execution_count": 18,
      "metadata": {
        "id": "99YNQkO7xF80"
      },
      "outputs": [],
      "source": [
        "def RetirarVehiculo():\n",
        "    print(\"\\n--- Retiro de Vehículo ---\")\n",
        "    Placa = input(\"Ingrese la placa del vehículo: \").upper()\n",
        "\n",
        "    if Placa not in VehiculosParqueados:\n",
        "        print(\"Vehículo no encontrado en el parqueadero.\")\n",
        "        return\n",
        "\n",
        "    # Obtener datos del vehículo\n",
        "    datos = VehiculosParqueados[Placa]\n",
        "    HoraIngreso = datos[\"hora_ingreso\"]\n",
        "    HoraSalida = datetime.now()\n",
        "    Duracion = HoraSalida - HoraIngreso\n",
        "    Minutos = int(Duracion.total_seconds() // 60)\n",
        "\n",
        "    # Cálculo del cobro\n",
        "    if Minutos <= 30:\n",
        "        Costo = 3000\n",
        "    else:\n",
        "        HorasCompletas = Minutos // 60\n",
        "        Resto = Minutos % 60\n",
        "        if Resto > 0:\n",
        "            HorasCompletas += 1\n",
        "        Costo = HorasCompletas * 3000\n",
        "\n",
        "    # Mostrar factura\n",
        "    print(\"\\n----- FACTURA -----\")\n",
        "    print(f\"Placa: {Placa}\")\n",
        "    print(f\"Celda: {datos['estacion']}\")\n",
        "    print(f\"Hora de ingreso: {HoraIngreso.strftime('%Y-%m-%d %H:%M:%S')}\")\n",
        "    print(f\"Hora de salida: {HoraSalida.strftime('%Y-%m-%d %H:%M:%S')}\")\n",
        "    print(f\"Tiempo total: {Minutos} minutos\")\n",
        "    print(f\"Total a pagar: ${Costo}\")\n",
        "    print(\"--------------------\\n\")\n",
        "\n",
        "    # Liberar celda\n",
        "    EstacionesDisponibles.append(datos[\"estacion\"])\n",
        "    EstacionesDisponibles.sort()  # Para que siempre se asignen en orden\n",
        "\n",
        "    # Registrar retiro en historial\n",
        "    HistorialRetiros.append({\n",
        "        \"placa\": Placa,\n",
        "        \"documento\": datos[\"documento\"],\n",
        "        \"nombre\": datos[\"nombre\"],\n",
        "        \"apellido\": datos[\"apellido\"],\n",
        "        \"celda\": datos[\"estacion\"],\n",
        "        \"ingreso\": HoraIngreso.strftime('%Y-%m-%d %H:%M:%S'),\n",
        "        \"salida\": HoraSalida.strftime('%Y-%m-%d %H:%M:%S'),\n",
        "        \"tiempo_min\": Minutos,\n",
        "        \"costo\": Costo\n",
        "    })\n",
        "\n",
        "    # Eliminar de vehículos activos\n",
        "    del VehiculosParqueados[Placa]"
      ]
    },
    {
      "cell_type": "markdown",
      "metadata": {
        "id": "IYcyuDhozu7f"
      },
      "source": [
        "# Menú de admin"
      ]
    },
    {
      "cell_type": "markdown",
      "source": [
        "**ingresos**"
      ],
      "metadata": {
        "id": "7NeLwag_yEEh"
      }
    },
    {
      "cell_type": "code",
      "source": [
        "def VerIngresos():\n",
        "    print(\"\\n Ingresos Totales \\n\")\n",
        "    if not HistorialRetiros:\n",
        "        print(\"No hay retiros registrados aún.\")\n",
        "        return\n",
        "\n",
        "    total_ingresos = sum(retiro[\"costo\"] for retiro in HistorialRetiros)\n",
        "    print(f\"El total de ingresos generados es: ${total_ingresos}\\n\")"
      ],
      "metadata": {
        "id": "3w5NGf64yJ54"
      },
      "execution_count": 19,
      "outputs": []
    },
    {
      "cell_type": "markdown",
      "metadata": {
        "id": "j3ITKZw9A1-p"
      },
      "source": [
        "**Disponibilidad** de celdas."
      ]
    },
    {
      "cell_type": "code",
      "execution_count": 20,
      "metadata": {
        "id": "VZqmhZfTz4ta"
      },
      "outputs": [],
      "source": [
        "def VerOcupacion():\n",
        "    ocupadas = len(VehiculosParqueados)\n",
        "    libres = len(EstacionesDisponibles)\n",
        "    print(\"\\n--- Disponibilidad del parqueadero ---\")\n",
        "    print(f\"Celdas ocupadas: {ocupadas}\")\n",
        "    print(f\"Celdas disponibles: {libres}\\n\")"
      ]
    },
    {
      "cell_type": "markdown",
      "metadata": {
        "id": "yf5gofgQBBhz"
      },
      "source": [
        "**Resumen de vehículos estacionados**"
      ]
    },
    {
      "cell_type": "code",
      "execution_count": 21,
      "metadata": {
        "id": "G570UKXcz8u8"
      },
      "outputs": [],
      "source": [
        "def VerVehiculosParqueados():\n",
        "    print(\"\\n--- Vehículos Actualmente Parqueados ---\")\n",
        "    if not VehiculosParqueados:\n",
        "        print(\"No hay vehículos en el parqueadero.\")\n",
        "        return\n",
        "\n",
        "    df = pd.DataFrame.from_dict(VehiculosParqueados, orient='index')\n",
        "    df = df[[\"nombre\", \"apellido\", \"documento\", \"estacion\", \"hora_ingreso\"]]\n",
        "    df[\"hora_ingreso\"] = df[\"hora_ingreso\"].apply(lambda x: x.strftime('%Y-%m-%d %H:%M:%S'))\n",
        "    print(df)"
      ]
    },
    {
      "cell_type": "markdown",
      "metadata": {
        "id": "f7AXgJUQErj7"
      },
      "source": [
        "**historial de retiros**"
      ]
    },
    {
      "cell_type": "code",
      "execution_count": 10,
      "metadata": {
        "id": "HJzD0aMBEyLB"
      },
      "outputs": [],
      "source": [
        "def ExportarHistorialRetiros():\n",
        "    if not HistorialRetiros:\n",
        "        print(\"No hay datos en el historial de retiros para exportar.\")\n",
        "        return\n",
        "\n",
        "    df = pd.DataFrame(HistorialRetiros)\n",
        "    nombre_archivo = \"historial_retiros.csv\"\n",
        "    df.to_csv(nombre_archivo, index=False)\n",
        "    print(f\"Historial de retiros exportado correctamente a '{nombre_archivo}'.\")"
      ]
    },
    {
      "cell_type": "markdown",
      "metadata": {
        "id": "IHiOEG_yBM_g"
      },
      "source": [
        "**Menú de admin**"
      ]
    },
    {
      "cell_type": "code",
      "execution_count": 11,
      "metadata": {
        "id": "hZtncTjr-iho"
      },
      "outputs": [],
      "source": [
        "#Menú de admin\n",
        "def MenuAdministrador():\n",
        "    print(\"\\n--- Estación Admin ---\")\n",
        "    usuario = input(\"Ingrese usuario: \")\n",
        "    contraseña = input(\"Ingrese la contraseña: \")\n",
        "\n",
        "    if usuario in Administrador and Administrador[usuario] == contraseña:\n",
        "        print(\"Acceso permitido.\\n\")\n",
        "        while True:\n",
        "            print(\"--- Opciones de Administrador ---\")\n",
        "            print(\"1. Disponibilidad del parqueadero\")\n",
        "            print(\"2. Vehículos estacionados\")\n",
        "            print(\"3. Exportar historial de retiros\")\n",
        "            print(\"4. Ver Ingresos\")\n",
        "            print(\"5. Salir del administrador\")\n",
        "            opcion = input(\"Seleccione una opción: \")\n",
        "\n",
        "            if opcion == \"1\":\n",
        "                VerOcupacion()\n",
        "\n",
        "            elif opcion == \"2\":\n",
        "                VerVehiculosParqueados()\n",
        "\n",
        "            elif opcion == \"3\":\n",
        "                ExportarHistorialRetiros()\n",
        "\n",
        "            elif opcion == \"4\":\n",
        "                VerIngresos()\n",
        "\n",
        "            elif opcion == \"5\":\n",
        "                print(\"Saliendo del módulo de administración.\\n\")\n",
        "                break\n",
        "            else:\n",
        "                print(\"Opción inválida. Intente de nuevo.\\n\")\n",
        "    else:\n",
        "        print(\"Usuario o contraseña incorrectos.\\n\")"
      ]
    },
    {
      "cell_type": "markdown",
      "metadata": {
        "id": "DYUXMXO8ozfW"
      },
      "source": [
        "# Menú General"
      ]
    },
    {
      "cell_type": "code",
      "execution_count": 22,
      "metadata": {
        "colab": {
          "base_uri": "https://localhost:8080/"
        },
        "id": "bvsb78qLnm6_",
        "outputId": "e828c325-9212-448d-b60b-d0f523c94ce2"
      },
      "outputs": [
        {
          "output_type": "stream",
          "name": "stdout",
          "text": [
            "\n",
            "--- Bienvenido a PARQUEA UdeA ---\n",
            "1. Registrar\n",
            "2. Ver usuarios\n",
            "3. Ingresar vehículo\n",
            "4. Retirar vehículo\n",
            "5. Ingresar al módulo de administrador\n",
            "6. Salir\n",
            "Seleccione una opción: 6\n",
            "Gracias por usar Parquea. Hasta luego.\n"
          ]
        }
      ],
      "source": [
        "def Menu():\n",
        "    print(\"\\n--- Bienvenido a PARQUEA UdeA ---\")\n",
        "    while True:\n",
        "        print(\"1. Registrar\")\n",
        "        print(\"2. Ver usuarios\")\n",
        "        print(\"3. Ingresar vehículo\")\n",
        "        print(\"4. Retirar vehículo\")\n",
        "        print(\"5. Ingresar al módulo de administrador\")\n",
        "        print(\"6. Salir\")\n",
        "\n",
        "        opcion = input(\"Seleccione una opción: \")\n",
        "\n",
        "        if opcion == \"1\":\n",
        "            RegistrarUsuario()\n",
        "        elif opcion == \"2\":\n",
        "            VerUsuarios()\n",
        "        elif opcion == \"3\":\n",
        "            IngresarVehiculo()\n",
        "        elif opcion == \"4\":\n",
        "            RetirarVehiculo()\n",
        "        elif opcion == \"5\":\n",
        "            MenuAdministrador()\n",
        "        elif opcion == \"6\":\n",
        "            print(\"Gracias por usar Parquea. Hasta luego.\")\n",
        "            break\n",
        "        else:\n",
        "            print(\"Opción no válida. Intente nuevamente.\")\n",
        "\n",
        "# Ejecutar programa\n",
        "Menu()"
      ]
    },
    {
      "cell_type": "markdown",
      "metadata": {
        "id": "mgCpqf_DzBlf"
      },
      "source": [
        "siguiente, crear modulo de administración.\n",
        "\n",
        "\n",
        "¿que hará?\n",
        "Pedirá usuario y contraseña.\n",
        "Si son correctos, mostrará un menú con varias funciones:\n",
        "Ver historial de retiros (la que ya tenemos).\n",
        "Ver ocupación actual.\n",
        "Ver usuarios registrados.\n",
        "Ver vehículos en parqueadero.\n",
        "Salir del módulo administrador.\n",
        "\n",
        "pedir al usuario el destino en la universidad para generar la proximidad entre el parqueadero y el usuario."
      ]
    }
  ],
  "metadata": {
    "colab": {
      "collapsed_sections": [
        "wtQQa6zJozxh",
        "acgVR78azPRo",
        "oNCNVJvKugSF",
        "9nRdDRd2xBhb",
        "IYcyuDhozu7f",
        "DYUXMXO8ozfW"
      ],
      "provenance": []
    },
    "kernelspec": {
      "display_name": "Python 3",
      "name": "python3"
    },
    "language_info": {
      "name": "python"
    }
  },
  "nbformat": 4,
  "nbformat_minor": 0
}